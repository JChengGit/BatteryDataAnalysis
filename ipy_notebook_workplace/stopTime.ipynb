{
 "cells": [
  {
   "cell_type": "code",
   "execution_count": 2,
   "metadata": {},
   "outputs": [
    {
     "name": "stdout",
     "output_type": "stream",
     "text": [
      "6133936 超过10分钟停车时间：\n",
      "从00:00:00到06:11:33，共6小时11分33秒\n",
      "从09:56:40到11:01:40，共1小时5分0秒\n",
      "从12:59:00到13:14:16，共0小时15分16秒\n",
      "从14:19:47到15:25:50，共1小时6分3秒\n",
      "从15:29:00到15:46:47，共0小时17分47秒\n",
      "从19:59:55到20:35:49，共0小时35分54秒\n",
      "从20:40:20到21:34:06，共0小时53分46秒\n"
     ]
    }
   ],
   "source": [
    "# -*- coding:utf-8 -*-\n",
    "%matplotlib inline\n",
    "\n",
    "import os,xlrd\n",
    "import numpy as np\n",
    "\n",
    "def readata(path,sheet,col,chop,str=0):   #参数为 路径 表格 数列 单位字符数 原格式输入\n",
    "    i=0\n",
    "    dt=[]\n",
    "    data=xlrd.open_workbook(path)\n",
    "    table=data.sheet_by_index(sheet)\n",
    "    value=table.col_values(col)\n",
    "    for val in value:\n",
    "        i+=1\n",
    "        if i>1:\n",
    "            if str == 1:\n",
    "                dt.append(val)\n",
    "            elif chop==0:\n",
    "                dt.append(float(val.encode('utf-8')))\n",
    "            else:\n",
    "                dt.append(float(val[:-chop].encode('utf-8')))\n",
    "    return dt\n",
    "\n",
    "\n",
    "def timediff(x,y):                          #计算时间差 x-y\n",
    "    h=int(x[:2].encode('utf-8'))-int(y[:2].encode('utf-8'))\n",
    "    m=int(x[3:5].encode('utf-8'))-int(y[3:5].encode('utf-8'))\n",
    "    s=int(x[-2:].encode('utf-8'))-int(y[-2:].encode('utf-8'))\n",
    "    if s<0:\n",
    "        s=60+s\n",
    "        m=m-1\n",
    "    if m<0:\n",
    "        m=m+60\n",
    "        h=h-1\n",
    "    return h*3600+m*60+s,h,m,s\n",
    "\n",
    "if __name__ == \"__main__\":\n",
    "    try:\n",
    "        path=u'data/vehicle-京B7Y242-20150416133936.xls'\n",
    "        speed = readata(path,1,12,4)\n",
    "        time = readata(path,1,15,0,1)\n",
    "        n=10\n",
    "        stoptime=[]\n",
    "        turn=1\n",
    "        for i in range(len(speed)):\n",
    "            if (speed[i]==0)and(turn==1):\n",
    "                begin=time[i]\n",
    "                turn=0\n",
    "            elif (speed[i]!=0)and(turn==0):\n",
    "                end=time[i]\n",
    "                turn=1\n",
    "                if timediff(end,begin)[0]>=60*n:\n",
    "                    stoptime.append([begin,end,timediff(end,begin)[1],timediff(end,begin)[2],timediff(end,begin)[3]])\n",
    "        print (u'%s 超过%d分钟停车时间：'%(path[28:35],n))\n",
    "        for j in range(len(stoptime)):\n",
    "            print (u'从%s到%s，共%d小时%d分%d秒'%(stoptime[j][0],stoptime[j][1],stoptime[j][2],stoptime[j][3],stoptime[j][4]))\n",
    "    except:\n",
    "        print ('Error')"
   ]
  }
 ],
 "metadata": {
  "kernelspec": {
   "display_name": "Python 3",
   "language": "python",
   "name": "python3"
  },
  "language_info": {
   "codemirror_mode": {
    "name": "ipython",
    "version": 3
   },
   "file_extension": ".py",
   "mimetype": "text/x-python",
   "name": "python",
   "nbconvert_exporter": "python",
   "pygments_lexer": "ipython3",
   "version": "3.6.4"
  }
 },
 "nbformat": 4,
 "nbformat_minor": 1
}
