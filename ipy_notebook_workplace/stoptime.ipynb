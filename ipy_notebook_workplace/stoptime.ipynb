{
 "cells": [
  {
   "cell_type": "code",
   "execution_count": 3,
   "metadata": {
    "collapsed": false
   },
   "outputs": [
    {
     "name": "stdout",
     "output_type": "stream",
     "text": [
      "京B7Y238 超过10分钟停车时间：\n",
      "从09:36:31到11:56:50，共2小时20分19秒\n",
      "从12:00:20到12:37:43，共0小时37分23秒\n",
      "从12:56:23到13:12:03，共0小时15分40秒\n",
      "从15:01:23到15:20:13，共0小时18分50秒\n",
      "从16:51:56到19:03:59，共2小时12分3秒\n"
     ]
    }
   ],
   "source": [
    "# -*- coding:utf-8 -*-\n",
    "%matplotlib inline\n",
    "\n",
    "import os,xlrd\n",
    "import numpy as np\n",
    "\n",
    "def readata(path,sheet,col,chop,str=0):   #参数为 路径 表格 数列 单位字符数 原格式输入\n",
    "    i=0\n",
    "    dt=[]\n",
    "    data=xlrd.open_workbook(path)\n",
    "    table=data.sheet_by_index(sheet)\n",
    "    value=table.col_values(col)\n",
    "    for val in value:\n",
    "        i+=1\n",
    "        if i>1:\n",
    "            if str == 1:\n",
    "                dt.append(val)\n",
    "            elif chop==0:\n",
    "                dt.append(float(val.encode('utf-8')))\n",
    "            else:\n",
    "                dt.append(float(val[:-chop].encode('utf-8')))\n",
    "    return dt\n",
    "\n",
    "\n",
    "def timediff(x,y):                          #计算时间差 x-y\n",
    "    h=int(x[:2].encode('utf-8'))-int(y[:2].encode('utf-8'))\n",
    "    m=int(x[3:5].encode('utf-8'))-int(y[3:5].encode('utf-8'))\n",
    "    s=int(x[-2:].encode('utf-8'))-int(y[-2:].encode('utf-8'))\n",
    "    if s<0:\n",
    "        s=60+s\n",
    "        m=m-1\n",
    "    if m<0:\n",
    "        m=m+60\n",
    "        h=h-1\n",
    "    return h*3600+m*60+s,h,m,s\n",
    "\n",
    "if __name__ == \"__main__\":\n",
    "    try:\n",
    "        path=u'E:\\\\Project\\\\20150402\\\\vehicle-京B7Y238-20150416130635.xls'\n",
    "        speed = readata(path,1,12,4)\n",
    "        time = readata(path,1,15,0,1)\n",
    "        n=10\n",
    "        stoptime=[]\n",
    "        turn=1\n",
    "        for i in range(len(speed)):\n",
    "            if (speed[i]==0)and(turn==1):\n",
    "                begin=time[i]\n",
    "                turn=0\n",
    "            elif (speed[i]!=0)and(turn==0):\n",
    "                end=time[i]\n",
    "                turn=1\n",
    "                if timediff(end,begin)[0]>=60*n:\n",
    "                    stoptime.append([begin,end,timediff(end,begin)[1],timediff(end,begin)[2],timediff(end,begin)[3]])\n",
    "        print u'%s 超过%d分钟停车时间：'%(path[28:35],n)\n",
    "        for j in range(len(stoptime)):\n",
    "            print u'从%s到%s，共%d小时%d分%d秒'%(stoptime[j][0],stoptime[j][1],stoptime[j][2],stoptime[j][3],stoptime[j][4])\n",
    "    except:\n",
    "        print 'Error'"
   ]
  }
 ],
 "metadata": {
  "kernelspec": {
   "display_name": "Python 2",
   "language": "python",
   "name": "python2"
  },
  "language_info": {
   "codemirror_mode": {
    "name": "ipython",
    "version": 2
   },
   "file_extension": ".py",
   "mimetype": "text/x-python",
   "name": "python",
   "nbconvert_exporter": "python",
   "pygments_lexer": "ipython2",
   "version": "2.7.11"
  }
 },
 "nbformat": 4,
 "nbformat_minor": 0
}
