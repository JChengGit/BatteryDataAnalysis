{
 "cells": [
  {
   "cell_type": "code",
   "execution_count": 1,
   "metadata": {},
   "outputs": [
    {
     "ename": "SyntaxError",
     "evalue": "Missing parentheses in call to 'print'. Did you mean print(print 'Error')? (<ipython-input-1-43066e3f6676>, line 58)",
     "output_type": "error",
     "traceback": [
      "\u001b[0;36m  File \u001b[0;32m\"<ipython-input-1-43066e3f6676>\"\u001b[0;36m, line \u001b[0;32m58\u001b[0m\n\u001b[0;31m    print 'Error'\u001b[0m\n\u001b[0m                ^\u001b[0m\n\u001b[0;31mSyntaxError\u001b[0m\u001b[0;31m:\u001b[0m Missing parentheses in call to 'print'. Did you mean print(print 'Error')?\n"
     ]
    }
   ],
   "source": [
    "# -*- coding:utf-8 -*-\n",
    "%matplotlib inline\n",
    "\n",
    "import os,xlrd\n",
    "import numpy as np\n",
    "\n",
    "def readata(path,sheet,col,chop,str=0):   #参数为 路径 表格 数列 单位字符数 原格式输入\n",
    "    i=0\n",
    "    dt=[]\n",
    "    data=xlrd.open_workbook(path)\n",
    "    table=data.sheet_by_index(sheet)\n",
    "    value=table.col_values(col)\n",
    "    for val in value:\n",
    "        i+=1\n",
    "        if i>1:\n",
    "            if str == 1:\n",
    "                dt.append(val)\n",
    "            elif chop==0:\n",
    "                dt.append(float(val.encode('utf-8')))\n",
    "            else:\n",
    "                dt.append(float(val[:-chop].encode('utf-8')))\n",
    "    return dt\n",
    "\n",
    "\n",
    "def timediff(x,y):                          #计算时间差 x-y\n",
    "    h=int(x[:2].encode('utf-8'))-int(y[:2].encode('utf-8'))\n",
    "    m=int(x[3:5].encode('utf-8'))-int(y[3:5].encode('utf-8'))\n",
    "    s=int(x[-2:].encode('utf-8'))-int(y[-2:].encode('utf-8'))\n",
    "    if s<0:\n",
    "        s=60+s\n",
    "        m=m-1\n",
    "    if m<0:\n",
    "        m=m+60\n",
    "        h=h-1\n",
    "    return h*3600+m*60+s,h,m,s\n",
    "\n",
    "if __name__ == \"__main__\":\n",
    "    try:\n",
    "        path=u'data/vehicle-京B7Y242-20150416133936.xls'\n",
    "        speed = readata(path,1,12,4)\n",
    "        time = readata(path,1,15,0,1)\n",
    "        n=10\n",
    "        stoptime=[]\n",
    "        turn=1\n",
    "        for i in range(len(speed)):\n",
    "            if (speed[i]==0)and(turn==1):\n",
    "                begin=time[i]\n",
    "                turn=0\n",
    "            elif (speed[i]!=0)and(turn==0):\n",
    "                end=time[i]\n",
    "                turn=1\n",
    "                if timediff(end,begin)[0]>=60*n:\n",
    "                    stoptime.append([begin,end,timediff(end,begin)[1],timediff(end,begin)[2],timediff(end,begin)[3]])\n",
    "        print (u'%s 超过%d分钟停车时间：'%(path[28:35],n))\n",
    "        for j in range(len(stoptime)):\n",
    "            print (u'从%s到%s，共%d小时%d分%d秒'%(stoptime[j][0],stoptime[j][1],stoptime[j][2],stoptime[j][3],stoptime[j][4]))\n",
    "    except:\n",
    "        print ('Error')"
   ]
  }
 ],
 "metadata": {
  "kernelspec": {
   "display_name": "Python 3",
   "language": "python",
   "name": "python3"
  },
  "language_info": {
   "codemirror_mode": {
    "name": "ipython",
    "version": 3
   },
   "file_extension": ".py",
   "mimetype": "text/x-python",
   "name": "python",
   "nbconvert_exporter": "python",
   "pygments_lexer": "ipython3",
   "version": "3.6.4"
  }
 },
 "nbformat": 4,
 "nbformat_minor": 1
}
