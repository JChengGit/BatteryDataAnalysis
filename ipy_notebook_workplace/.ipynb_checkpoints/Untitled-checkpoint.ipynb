{
 "cells": [
  {
   "cell_type": "code",
   "execution_count": 4,
   "metadata": {
    "collapsed": false
   },
   "outputs": [
    {
     "name": "stdout",
     "output_type": "stream",
     "text": [
      "[25, 20, 20, 24, 16, 19, 22, 18, 23, 24, 25, 22, 22, 23, 23, 19, 21, 19, 18, 22, 19, 23, 25, 23, 25, 24, 24, 22, 21, 21, 22, 22, 23, 25, 21, 21, 23, 19, 20, 24, 24, 20, 21, 23, 24, 19, 19, 19, 19, 20, 12, 19, 22, 23, 23, 20, 19, 21, 21, 20, 19, 19, 20, 22, 22, 11, 20, 27, 26, 22, 24, 18, 28, 21, 22, 22, 24, 18, 25, 25, 24, 20, 21, 21, 21, 20, 21, 21, 21, 21, 24, 20, 22, 19, 20, 23, 18, 23, 21, 20, 26, 23, 24, 25, 22, 24, 23, 21, 24, 26, 19, 19, 23, 20, 17, 21, 18, 20, 25, 25]\n"
     ]
    }
   ],
   "source": [
    "# -*- coding: utf-8 -*-\n",
    "#找出全部文件的温度最大值\n",
    "\n",
    "import os,xlrd\n",
    "\n",
    "def maxtmp(filepath):\n",
    "\tdata=xlrd.open_workbook(filepath)\n",
    "\ttable=data.sheet_by_index(0)\n",
    "\n",
    "\ttmp=table.col_values(12)\n",
    "\ttime=table.col_values(22)\n",
    "\n",
    "\ti=int(0)\n",
    "\ttmpnum=[]\n",
    "\tfor t in tmp:\n",
    "\t\tif i>1:\n",
    "\t\t\tt1=t[:-2]\n",
    "\t\t\tt2=t1.encode('utf-8')\n",
    "\t\t\tt3=int(t2)\n",
    "\t\t\ttmpnum.append(t3)\n",
    "\t\ti+=1\n",
    "\n",
    "\tmaxtmp=max(tmpnum)\n",
    "\t\t\n",
    "\treturn maxtmp\n",
    "\n",
    "tmpdata=[]\n",
    "for file in os.listdir(u'E:\\\\project\\\\20150402'):\n",
    "\tif file[:7]=='vehicle':\n",
    "\t\tpath=os.path.join(u'E:\\\\project\\\\20150402',file)\n",
    "\t\t\n",
    "\t\ttmpdata.append(maxtmp(path))\n",
    "\n",
    "print tmpdata"
   ]
  },
  {
   "cell_type": "code",
   "execution_count": 10,
   "metadata": {
    "collapsed": false
   },
   "outputs": [],
   "source": [
    "# -*- coding: utf-8 -*-\n",
    "%matplotlib inline\n",
    "\n",
    "import numpy as np\n",
    "import matplotlib.pyplot as plt\n",
    "import os,xlrd\n",
    "\n",
    "\n",
    "#数据读取函数   参数为 路径 表格 数列 单位字符数 原格式输入\n",
    "def readata(path,sheet,col,chop,str=0):   \n",
    "    dt=[]\n",
    "    data=xlrd.open_workbook(path)\n",
    "    table=data.sheet_by_index(sheet)\n",
    "    value=table.col_values(col)\n",
    "    value.pop(0)\n",
    "    for val in value:\n",
    "        if str == 1:\n",
    "            dt.append(val)\n",
    "        elif chop==0:\n",
    "            dt.append(float(val.encode('utf-8')))\n",
    "        else:\n",
    "            dt.append(float(val[:-chop].encode('utf-8')))\n",
    "    return dt\n",
    "\n",
    "    maxtmp = [ ]            \n",
    "    dir = u'E:\\\\project\\\\20150402\\\\'\n",
    "    for file in getpath(dir):\n",
    "        tmp = readata(file,0,12,2)\n",
    "        maxtmp.append(np.max(tmp))\n",
    "    for i in range(len(maxtmp)):\n",
    "        print u'%s 的电池最大温度值为%.0f℃'%(getpath(dir)[i][28:25],maxtmp[i])\n"
   ]
  }
 ],
 "metadata": {
  "kernelspec": {
   "display_name": "Python 2",
   "language": "python",
   "name": "python2"
  },
  "language_info": {
   "codemirror_mode": {
    "name": "ipython",
    "version": 2
   },
   "file_extension": ".py",
   "mimetype": "text/x-python",
   "name": "python",
   "nbconvert_exporter": "python",
   "pygments_lexer": "ipython2",
   "version": "2.7.11"
  }
 },
 "nbformat": 4,
 "nbformat_minor": 0
}
