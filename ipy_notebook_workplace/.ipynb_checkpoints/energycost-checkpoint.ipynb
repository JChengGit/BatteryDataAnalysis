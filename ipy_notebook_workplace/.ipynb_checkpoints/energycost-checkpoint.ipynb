{
 "cells": [
  {
   "cell_type": "code",
   "execution_count": 8,
   "metadata": {
    "collapsed": false
   },
   "outputs": [
    {
     "name": "stdout",
     "output_type": "stream",
     "text": [
      "京B7Y223全日能耗为28.5kW•h\n"
     ]
    }
   ],
   "source": [
    "# -*- coding: utf-8 -*-\n",
    "%matplotlib inline\n",
    "\n",
    "import numpy as np\n",
    "import matplotlib.pyplot as plt\n",
    "import os,xlrd\n",
    "\n",
    "def readata(path,sheet,col,chop,str=0):   \n",
    "    dt=[]\n",
    "    data=xlrd.open_workbook(path)\n",
    "    table=data.sheet_by_index(sheet)\n",
    "    value=table.col_values(col)\n",
    "    value.pop(0)\n",
    "    for val in value:\n",
    "        if str == 1:\n",
    "            dt.append(val)\n",
    "        elif chop==0:\n",
    "            dt.append(float(val.encode('utf-8')))\n",
    "        else:\n",
    "            dt.append(float(val[:-chop].encode('utf-8')))\n",
    "    return dt\n",
    "\n",
    "def zeropop(lt):              \n",
    "    i=0\n",
    "    p=[]\n",
    "    pop=[]\n",
    "    for x in lt:\n",
    "        if x==0:\n",
    "            p.append(i)\n",
    "        i+=1\n",
    "    for i in range(len(p)):\n",
    "        pop.append(p[i]-i)\n",
    "    return pop\n",
    "\n",
    "\n",
    "\n",
    "path=u'E:\\\\Project\\\\20150402\\\\vehicle-京B7Y223-20150416133513.xls'\n",
    "energy=readata(path,0,19,4)\n",
    "zero=zeropop(energy)\n",
    "for i in range(len(zero)):\n",
    "    energy.pop(zero[i])\n",
    "\n",
    "energycost=0\n",
    "x=0\n",
    "m=[]\n",
    "n=[]\n",
    "l=[]\n",
    "charge=0\n",
    "for i in range(len(energy)-1):\n",
    "    if energy[i]<energy[i+1] and x==0:\n",
    "        m.append(i)\n",
    "        x=1\n",
    "    if energy[i]>energy[i+1] and x==1:\n",
    "        n.append(i)\n",
    "        x=0\n",
    "if len(m)!=len(n):\n",
    "    n.append(len(energy)-1)\n",
    "for i in range(len(m)):\n",
    "    if n[i]-m[i]>20:\n",
    "        l.append([m[i],n[i]])\n",
    "for i in range(len(l)):\n",
    "    charge+=energy[l[i][1]]-energy[l[i][0]]\n",
    "energycost=energy[1]-energy[len(energy)-1]+charge\n",
    "print u'%s全日能耗为%.1fkW•h'%(path[28:35],energycost)"
   ]
  },
  {
   "cell_type": "code",
   "execution_count": 1,
   "metadata": {
    "collapsed": false
   },
   "outputs": [
    {
     "name": "stdout",
     "output_type": "stream",
     "text": [
      "[35.80000000000005, 20.400000000000002, 29.600000000000023, 43.10000000000007, 11.199999999999996, 26.500000000000043, 31.500000000000036, 24.300000000000047, 26.50000000000004, 32.800000000000054, 30.800000000000054, 28.20000000000001, 13.300000000000002, 29.800000000000054, 0, 32.000000000000014, 29.00000000000005, 28.70000000000003, 7.4999999999999964, 15.900000000000002, 17.900000000000013, 19.90000000000001, 27.800000000000015, 30.300000000000033, 26.700000000000006, 42.20000000000008, 41.300000000000075, 29.30000000000003, 24.30000000000002, 31.200000000000035, 32.20000000000005, 30.200000000000042, 18.3, 26.70000000000003, 32.30000000000003, 33.50000000000005, 33.50000000000005, 24.000000000000004, 0, 17.500000000000004, 34.100000000000044, 32.60000000000002, 26.500000000000004, 29.90000000000004, 22.6, 33.000000000000014, 23.100000000000033, 23.100000000000033, 28.700000000000067, 32.900000000000034, 23.20000000000003, 3.3000000000000007, 23.799999999999997, 28.799999999999994, 26.200000000000006, 35.40000000000006, 25.500000000000007, 27.10000000000001, 26.300000000000008, 29.30000000000004, 24.9, 29.50000000000003, 29.600000000000037, 31.50000000000002, 28.70000000000002, 27.400000000000063, 3.1000000000000005, 22.699999999999996, 33.60000000000005, 33.60000000000005, 30.10000000000005, 37.10000000000003, 16.4, 40.30000000000008, 32.10000000000005, 38.40000000000005, 29.600000000000005, 37.40000000000005, 18.600000000000023, 38.90000000000004, 34.300000000000054, 38.00000000000003, 31.20000000000001, 35.60000000000008, 27.599999999999998, 35.10000000000007, 26.5, 27.5, 13.900000000000002, 8.799999999999997, 26.799999999999997, 25.200000000000028, 34.40000000000008, 16.6, 32.10000000000004, 26.30000000000006, 30.500000000000018, 19.000000000000025, 35.50000000000005, 32.70000000000004, 13.800000000000004, 33.30000000000004, 30.70000000000004, 28.000000000000025, 40.00000000000007, 374.00000000000114, 30.400000000000034, 38.7000000000001, 33.700000000000074, 27.29999999999999, 39.2000000000001, 28.200000000000067, 18.200000000000006, 23.700000000000017, 26.300000000000047, 6.800000000000001, 14.000000000000002, 24.40000000000005, 28.600000000000023, 25.80000000000005, 27.800000000000054]\n"
     ]
    }
   ],
   "source": [
    "# -*- coding: utf-8 -*-\n",
    "%matplotlib inline\n",
    "\n",
    "import numpy as np\n",
    "import matplotlib.pyplot as plt\n",
    "import os,xlrd\n",
    "\n",
    "def readata(path,sheet,col,chop,str=0):   \n",
    "    dt=[]\n",
    "    data=xlrd.open_workbook(path)\n",
    "    table=data.sheet_by_index(sheet)\n",
    "    value=table.col_values(col)\n",
    "    value.pop(0)\n",
    "    for val in value:\n",
    "        if str == 1:\n",
    "            dt.append(val)\n",
    "        elif chop==0:\n",
    "            dt.append(float(val.encode('utf-8')))\n",
    "        else:\n",
    "            dt.append(float(val[:-chop].encode('utf-8')))\n",
    "    return dt\n",
    "\n",
    "def zeropop(lt):              \n",
    "    i=0\n",
    "    p=[]\n",
    "    pop=[]\n",
    "    for x in lt:\n",
    "        if x==0:\n",
    "            p.append(i)\n",
    "        i+=1\n",
    "    for i in range(len(p)):\n",
    "        pop.append(p[i]-i)\n",
    "    return pop\n",
    "\n",
    "def getpath(dir):\n",
    "    path=[]\n",
    "    for file in os.listdir(dir):\n",
    "        if file[:7]=='vehicle':\n",
    "            path.append(os.path.join(dir,file))\n",
    "    return path\n",
    "\n",
    "path=getpath(u'E:\\\\Project\\\\20150402')\n",
    "\n",
    "allcost=[]\n",
    "for file in path:\n",
    "    energy=readata(file,0,19,4)\n",
    "    zero=zeropop(energy)\n",
    "    for i in range(len(zero)):\n",
    "        energy.pop(zero[i])\n",
    "\n",
    "    encost=0\n",
    "    for i in range(len(energy)-1):\n",
    "        if energy[i]>energy[i+1]:\n",
    "            encost+=(energy[i]-energy[i+1])\n",
    "    allcost.append(encost)\n",
    "    \n",
    "print allcost"
   ]
  }
 ],
 "metadata": {
  "kernelspec": {
   "display_name": "Python 2",
   "language": "python",
   "name": "python2"
  },
  "language_info": {
   "codemirror_mode": {
    "name": "ipython",
    "version": 2
   },
   "file_extension": ".py",
   "mimetype": "text/x-python",
   "name": "python",
   "nbconvert_exporter": "python",
   "pygments_lexer": "ipython2",
   "version": "2.7.11"
  }
 },
 "nbformat": 4,
 "nbformat_minor": 0
}
