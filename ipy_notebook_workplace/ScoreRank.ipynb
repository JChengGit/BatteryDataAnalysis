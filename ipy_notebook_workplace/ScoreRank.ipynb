{
 "cells": [
  {
   "cell_type": "code",
   "execution_count": null,
   "metadata": {
    "collapsed": true
   },
   "outputs": [],
   "source": [
    "scr=[]\n",
    "std=[]\n",
    "rank=[]\n",
    "\n",
    "iner=input()\n",
    "while iner!=' ':\n",
    "    scr.append(int(iner))\n",
    "    iner=input()\n",
    "print(scr)\n",
    "\n",
    "\n",
    "for i in range(len(scr)):\n",
    "    std.append(i)\n",
    "std=range(len(scr))\n",
    "    \n",
    "    \n",
    "for i in range(len(scr)-1):\n",
    "    for j in range(len(scr)-i-1):\n",
    "        if scr[j]<scr[j+1]:\n",
    "            scr[j],scr[j+1]=scr[j+1],scr[j]\n",
    "            std[j],std[j+1]=std[j+1],std[j]\n",
    "            \n",
    "print(scr)\n",
    "print(std)"
   ]
  }
 ],
 "metadata": {
  "kernelspec": {
   "display_name": "Python 3",
   "language": "python",
   "name": "python3"
  },
  "language_info": {
   "codemirror_mode": {
    "name": "ipython",
    "version": 3
   },
   "file_extension": ".py",
   "mimetype": "text/x-python",
   "name": "python",
   "nbconvert_exporter": "python",
   "pygments_lexer": "ipython3",
   "version": "3.6.1"
  }
 },
 "nbformat": 4,
 "nbformat_minor": 2
}
