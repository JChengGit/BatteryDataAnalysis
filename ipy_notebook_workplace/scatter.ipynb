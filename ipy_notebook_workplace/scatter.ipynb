{
 "cells": [
  {
   "cell_type": "code",
   "execution_count": 2,
   "metadata": {},
   "outputs": [
    {
     "ename": "TabError",
     "evalue": "inconsistent use of tabs and spaces in indentation (<ipython-input-2-7a6ec4ea05cf>, line 23)",
     "output_type": "error",
     "traceback": [
      "\u001b[1;36m  File \u001b[1;32m\"<ipython-input-2-7a6ec4ea05cf>\"\u001b[1;36m, line \u001b[1;32m23\u001b[0m\n\u001b[1;33m    Vdata.append(360)\u001b[0m\n\u001b[1;37m                     ^\u001b[0m\n\u001b[1;31mTabError\u001b[0m\u001b[1;31m:\u001b[0m inconsistent use of tabs and spaces in indentation\n"
     ]
    }
   ],
   "source": [
    "# -*- coding: utf-8 -*-\n",
    "%matplotlib inline\n",
    "\n",
    "import numpy as np\n",
    "import matplotlib.pyplot as plt\n",
    "import os,xlrd\n",
    "\n",
    "data=xlrd.open_workbook(u'G:\\\\毕业设计\\\\20150402\\\\vehicle-京B7Y275-20150416112848.xls')\n",
    "table=data.sheet_by_index(0)\n",
    "V=table.col_values(9)\n",
    "I=table.col_values(17)\n",
    "\n",
    "a=b=0\n",
    "Vdata=[]\n",
    "Idata=[]\n",
    "for x in V:\n",
    "    a+=1\n",
    "    if a>1:\n",
    "        x1=float(x[:-1].encode('utf-8'))\n",
    "        if x1!=0:\n",
    "            Vdata.append(x1)\n",
    "        else:\n",
    "\t\t\tVdata.append(360)\n",
    "\n",
    "for x in I:\n",
    "    b+=1\n",
    "    if b>1:\n",
    "        Idata.append(float(x[:-1].encode('utf-8')))\n",
    "\n",
    "fig=plt.figure()\n",
    "fig.set_size_inches(18,10)\n",
    "plt.scatter(Idata,Vdata,color='c',s=30,marker='+',alpha=0.3)"
   ]
  }
 ],
 "metadata": {
  "kernelspec": {
   "display_name": "Python 3",
   "language": "python",
   "name": "python3"
  },
  "language_info": {
   "codemirror_mode": {
    "name": "ipython",
    "version": 3
   },
   "file_extension": ".py",
   "mimetype": "text/x-python",
   "name": "python",
   "nbconvert_exporter": "python",
   "pygments_lexer": "ipython3",
   "version": "3.6.1"
  }
 },
 "nbformat": 4,
 "nbformat_minor": 1
}
