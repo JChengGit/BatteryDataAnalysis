{
 "cells": [
  {
   "cell_type": "code",
   "execution_count": 4,
   "metadata": {},
   "outputs": [
    {
     "name": "stdout",
     "output_type": "stream",
     "text": [
      "总电流均方差为27.42A,极差为178.50A\n"
     ]
    }
   ],
   "source": [
    "# -*- coding: utf-8 -*-\n",
    "%matplotlib inline\n",
    "\n",
    "import numpy as np\n",
    "import matplotlib.pyplot as plt\n",
    "import os,xlrd\n",
    "\n",
    "\n",
    "def readata(path,sheet,col,chop,str=0):   #参数为 路径 表格 数列 单位字符数 原格式输入\n",
    "    i=0\n",
    "    dt=[]\n",
    "    data=xlrd.open_workbook(path)\n",
    "    table=data.sheet_by_index(sheet)\n",
    "    value=table.col_values(col)\n",
    "    for val in value:\n",
    "        i+=1\n",
    "        if i>1:\n",
    "            if str == 1:\n",
    "                dt.append(val)\n",
    "            elif chop==0:\n",
    "                dt.append(float(val.encode('utf-8')))\n",
    "            else:\n",
    "                dt.append(float(val[:-chop].encode('utf-8')))\n",
    "    return dt\n",
    "\n",
    "            \n",
    "#传入目录 返回全部文件路径\n",
    "def getpath(dir):\n",
    "    path=[]\n",
    "    for file in os.listdir(dir):\n",
    "        if file[:7]=='vehicle':\n",
    "            path.append(os.path.join(dir,file))\n",
    "    return path\n",
    "\n",
    "path=u'data/vehicle-京B7Y200-20150402.xls'\n",
    "I=readata(path,0,17,1)\n",
    "print(u'总电流均方差为%.2fA,极差为%.2fA' %(np.std(I),max(I)-min(I)))\n"
   ]
  }
 ],
 "metadata": {
  "kernelspec": {
   "display_name": "Python 3",
   "language": "python",
   "name": "python3"
  },
  "language_info": {
   "codemirror_mode": {
    "name": "ipython",
    "version": 3
   },
   "file_extension": ".py",
   "mimetype": "text/x-python",
   "name": "python",
   "nbconvert_exporter": "python",
   "pygments_lexer": "ipython3",
   "version": "3.6.4"
  }
 },
 "nbformat": 4,
 "nbformat_minor": 1
}
